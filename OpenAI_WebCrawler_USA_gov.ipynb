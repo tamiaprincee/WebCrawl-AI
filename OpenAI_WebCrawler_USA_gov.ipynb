{
  "cells": [
    {
      "cell_type": "code",
      "execution_count": null,
      "metadata": {
        "pycharm": {
          "name": "#%%\n"
        },
        "colab": {
          "base_uri": "https://localhost:8080/"
        },
        "id": "ETgZPdWLoL89",
        "outputId": "5f771832-2166-45ba-e1ba-f26d9e6f1818"
      },
      "outputs": [
        {
          "output_type": "stream",
          "name": "stdout",
          "text": [
            "Looking in indexes: https://pypi.org/simple, https://us-python.pkg.dev/colab-wheels/public/simple/\n",
            "Requirement already satisfied: openai in /usr/local/lib/python3.9/dist-packages (0.27.4)\n",
            "Requirement already satisfied: requests>=2.20 in /usr/local/lib/python3.9/dist-packages (from openai) (2.27.1)\n",
            "Requirement already satisfied: tqdm in /usr/local/lib/python3.9/dist-packages (from openai) (4.65.0)\n",
            "Requirement already satisfied: aiohttp in /usr/local/lib/python3.9/dist-packages (from openai) (3.8.4)\n",
            "Requirement already satisfied: idna<4,>=2.5 in /usr/local/lib/python3.9/dist-packages (from requests>=2.20->openai) (3.4)\n",
            "Requirement already satisfied: urllib3<1.27,>=1.21.1 in /usr/local/lib/python3.9/dist-packages (from requests>=2.20->openai) (1.26.15)\n",
            "Requirement already satisfied: certifi>=2017.4.17 in /usr/local/lib/python3.9/dist-packages (from requests>=2.20->openai) (2022.12.7)\n",
            "Requirement already satisfied: charset-normalizer~=2.0.0 in /usr/local/lib/python3.9/dist-packages (from requests>=2.20->openai) (2.0.12)\n",
            "Requirement already satisfied: async-timeout<5.0,>=4.0.0a3 in /usr/local/lib/python3.9/dist-packages (from aiohttp->openai) (4.0.2)\n",
            "Requirement already satisfied: multidict<7.0,>=4.5 in /usr/local/lib/python3.9/dist-packages (from aiohttp->openai) (6.0.4)\n",
            "Requirement already satisfied: frozenlist>=1.1.1 in /usr/local/lib/python3.9/dist-packages (from aiohttp->openai) (1.3.3)\n",
            "Requirement already satisfied: attrs>=17.3.0 in /usr/local/lib/python3.9/dist-packages (from aiohttp->openai) (23.1.0)\n",
            "Requirement already satisfied: aiosignal>=1.1.2 in /usr/local/lib/python3.9/dist-packages (from aiohttp->openai) (1.3.1)\n",
            "Requirement already satisfied: yarl<2.0,>=1.0 in /usr/local/lib/python3.9/dist-packages (from aiohttp->openai) (1.9.1)\n",
            "Looking in indexes: https://pypi.org/simple, https://us-python.pkg.dev/colab-wheels/public/simple/\n",
            "Requirement already satisfied: tiktoken in /usr/local/lib/python3.9/dist-packages (0.3.3)\n",
            "Requirement already satisfied: regex>=2022.1.18 in /usr/local/lib/python3.9/dist-packages (from tiktoken) (2022.10.31)\n",
            "Requirement already satisfied: requests>=2.26.0 in /usr/local/lib/python3.9/dist-packages (from tiktoken) (2.27.1)\n",
            "Requirement already satisfied: charset-normalizer~=2.0.0 in /usr/local/lib/python3.9/dist-packages (from requests>=2.26.0->tiktoken) (2.0.12)\n",
            "Requirement already satisfied: idna<4,>=2.5 in /usr/local/lib/python3.9/dist-packages (from requests>=2.26.0->tiktoken) (3.4)\n",
            "Requirement already satisfied: urllib3<1.27,>=1.21.1 in /usr/local/lib/python3.9/dist-packages (from requests>=2.26.0->tiktoken) (1.26.15)\n",
            "Requirement already satisfied: certifi>=2017.4.17 in /usr/local/lib/python3.9/dist-packages (from requests>=2.26.0->tiktoken) (2022.12.7)\n"
          ]
        }
      ],
      "source": [
        "#Imports\n",
        "import openai\n",
        "import requests\n",
        "import re\n",
        "import urllib.request\n",
        "from bs4 import BeautifulSoup\n",
        "from collections import deque\n",
        "from html.parser import HTMLParser\n",
        "from urllib.parse import urlparse\n",
        "import os\n",
        "import tiktoken\n",
        "import pandas as pd\n",
        "import numpy as np\n",
        "from openai.embeddings_utils import distances_from_embeddings\n",
        "openai.api_key = \"\""
      ]
    },
    {
      "cell_type": "markdown",
      "source": [],
      "metadata": {
        "collapsed": false,
        "pycharm": {
          "name": "#%% md\n"
        },
        "id": "SVr4Y7H4oL9E"
      }
    },
    {
      "cell_type": "markdown",
      "metadata": {
        "pycharm": {
          "name": "#%% md\n"
        },
        "id": "Da0DNn2xoL9H"
      },
      "source": [
        "# WebCrawler"
      ]
    },
    {
      "cell_type": "code",
      "execution_count": null,
      "metadata": {
        "collapsed": true,
        "pycharm": {
          "name": "#%%\n"
        },
        "id": "ws2qTZygoL9I"
      },
      "outputs": [],
      "source": [
        "# Regex pattern to match a URL\n",
        "HTTP_URL_PATTERN = r'^http[s]*://.+'\n",
        "\n",
        "domain = \"usa.gov\" # <- put your domain to be crawled\n",
        "full_url = \"https://usa.gov/\" # <- put your domain to be crawled with https or http\n",
        "\n",
        "# Create a class to parse the HTML and get the hyperlinks\n",
        "class HyperlinkParser(HTMLParser):\n",
        "    def __init__(self):\n",
        "        super().__init__()\n",
        "        # Create a list to store the hyperlinks\n",
        "        self.hyperlinks = []\n",
        "\n",
        "    # Override the HTMLParser's handle_starttag method to get the hyperlinks\n",
        "    def handle_starttag(self, tag, attrs):\n",
        "        attrs = dict(attrs)\n",
        "\n",
        "        # If the tag is an anchor tag and it has an href attribute, add the href attribute to the list of hyperlinks\n",
        "        if tag == \"a\" and \"href\" in attrs:\n",
        "            self.hyperlinks.append(attrs[\"href\"])"
      ]
    },
    {
      "cell_type": "code",
      "execution_count": null,
      "metadata": {
        "pycharm": {
          "name": "#%%\n"
        },
        "id": "YSqsQqkJoL9J"
      },
      "outputs": [],
      "source": [
        "# Function to get the hyperlinks from a URL\n",
        "def get_hyperlinks(url):\n",
        "\n",
        "    # Try to open the URL and read the HTML\n",
        "    try:\n",
        "        # Open the URL and read the HTML\n",
        "        with urllib.request.urlopen(url) as response:\n",
        "\n",
        "            # If the response is not HTML, return an empty list\n",
        "            if not response.info().get('Content-Type').startswith(\"text/html\"):\n",
        "                return []\n",
        "\n",
        "            # Decode the HTML\n",
        "            html = response.read().decode('utf-8')\n",
        "    except Exception as e:\n",
        "        print(e)\n",
        "        return []\n",
        "\n",
        "    # Create the HTML Parser and then Parse the HTML to get hyperlinks\n",
        "    parser = HyperlinkParser()\n",
        "    parser.feed(html)\n",
        "\n",
        "    return parser.hyperlinks"
      ]
    },
    {
      "cell_type": "code",
      "execution_count": null,
      "metadata": {
        "pycharm": {
          "name": "#%%\n"
        },
        "id": "EJs0EqedoL9K"
      },
      "outputs": [],
      "source": [
        "# Function to get the hyperlinks from a URL that are within the same domain\n",
        "def get_domain_hyperlinks(local_domain, url):\n",
        "    clean_links = []\n",
        "    for link in set(get_hyperlinks(url)):\n",
        "        clean_link = None\n",
        "\n",
        "        # If the link is a URL, check if it is within the same domain\n",
        "        if re.search(HTTP_URL_PATTERN, link):\n",
        "            # Parse the URL and check if the domain is the same\n",
        "            url_obj = urlparse(link)\n",
        "            if url_obj.netloc == local_domain:\n",
        "                clean_link = link\n",
        "\n",
        "        # If the link is not a URL, check if it is a relative link\n",
        "        else:\n",
        "            if link.startswith(\"/\"):\n",
        "                link = link[1:]\n",
        "            elif link.startswith(\"#\") or link.startswith(\"mailto:\"):\n",
        "                continue\n",
        "            clean_link = \"https://\" + local_domain + \"/\" + link\n",
        "\n",
        "        if clean_link is not None:\n",
        "            if clean_link.endswith(\"/\"):\n",
        "                clean_link = clean_link[:-1]\n",
        "            clean_links.append(clean_link)\n",
        "\n",
        "    # Return the list of hyperlinks that are within the same domain\n",
        "    return list(set(clean_links))"
      ]
    },
    {
      "cell_type": "code",
      "execution_count": null,
      "metadata": {
        "pycharm": {
          "name": "#%%\n"
        },
        "colab": {
          "base_uri": "https://localhost:8080/",
          "height": 1000
        },
        "id": "Z3uaijA_oL9L",
        "outputId": "e89d92e3-0768-4577-d591-d33eda005684"
      },
      "outputs": [
        {
          "output_type": "stream",
          "name": "stdout",
          "text": [
            "https://usa.gov/\n",
            "https://usa.gov/early-childhood\n",
            "https://usa.gov/#all_topics\n",
            "https://usa.gov/welfare-benefits\n",
            "https://usa.gov/government-checks-payments\n",
            "https://usa.gov/es/cheques-pagos-del-gobierno\n",
            "https://usa.gov/es/ayuda-pagar-facturas\n",
            "https://usa.gov/es/ayuda-pagar-luz-gas\n",
            "https://usa.gov/es/enfrentar-dificultades-economicas\n",
            "https://usa.gov/es/beneficios-desempleo\n",
            "https://usa.gov/es/trabajo-desempleo\n",
            "https://usa.gov/es/proteccion-trabajador-leyes-laborales\n",
            "https://usa.gov/es/despido-terminacion-empleo\n",
            "https://usa.gov/termination-of-employment\n",
            "https://usa.gov/fmla\n",
            "https://usa.gov/family-leave-act\n",
            "https://usa.gov/es/fmla-responsabilidades-empleador\n",
            "https://usa.gov/es/fmla-trabajadores\n",
            "https://usa.gov/employer-fmla\n",
            "https://usa.gov/wrongful-termination\n",
            "https://usa.gov/report-safety-violations\n",
            "https://usa.gov/job-search\n",
            "https://usa.gov/job-help\n",
            "https://usa.gov/es/buscar-trabajo\n",
            "https://usa.gov/es/capacitacion-laboral\n",
            "https://usa.gov/veteran-job-programs\n",
            "https://usa.gov/military-pay-benefits\n",
            "https://usa.gov/military-tuition-assistance\n",
            "https://usa.gov/military-pay\n",
            "https://usa.gov/military-pensions\n",
            "https://usa.gov/veterans-health\n",
            "https://usa.gov/vha-problems\n",
            "https://usa.gov/va-disability\n",
            "https://usa.gov/get-veterans-health-benefits\n",
            "https://usa.gov/veterans-mental-health\n",
            "https://usa.gov/burial-survivor-benefits\n",
            "https://usa.gov/military-funeral-honors\n",
            "https://usa.gov/es/honores-funebres-fuerzas-armadas\n",
            "https://usa.gov/es/beneficios-educativos-laborales-familiares\n",
            "https://usa.gov/es/servicio-selectivo-servicio-militar\n",
            "https://usa.gov/es/consultar-numero-registro-servicio-selectivo\n",
            "https://usa.gov/selective-service-card\n",
            "https://usa.gov/register-selective-service\n",
            "https://usa.gov/es/registro-servicio-selectivo\n",
            "https://usa.gov/es/transicion-edad-adulta\n",
            "https://usa.gov/es/registro-inscripcion-votar\n",
            "https://usa.gov/es/averigue-si-esta-registrado-para-votar\n",
            "https://usa.gov/confirm-voter-registration\n",
            "https://usa.gov/midterm-state-and-local-elections\n",
            "https://usa.gov/midterm-elections\n",
            "https://usa.gov/es/elecciones-legislativas-elecciones-mitad-del-mandato\n",
            "https://usa.gov/es/elecciones-estatales-locales\n",
            "https://usa.gov/state-local-elections\n",
            "https://usa.gov/inauguration\n",
            "https://usa.gov/election\n",
            "https://usa.gov/presidential-election-process\n",
            "https://usa.gov/es/proceso-eleccion-presidencial\n",
            "https://usa.gov/es/requisitos-ser-candidato-presidencia-eeuu\n",
            "https://usa.gov/es/convenciones-nacionales\n",
            "https://usa.gov/es/elecciones-primarias-caucus\n",
            "https://usa.gov/es/elecciones-presidenciales-generales\n",
            "https://usa.gov/es/colegio-electoral\n",
            "https://usa.gov/es/funcionarios-electos\n",
            "https://usa.gov/es/dias-festivos-estados-unidos\n",
            "https://usa.gov/es/navidad\n",
            "https://usa.gov/es/ano-nuevo\n",
            "https://usa.gov/es/dia-independencia-estados-unidos\n",
            "https://usa.gov/es/dia-de-la-raza\n",
            "https://usa.gov/es/dia-martin-luther-king\n",
            "https://usa.gov/es/dia-conmemoracion-caidos\n",
            "https://usa.gov/es/juneteenth\n",
            "https://usa.gov/es/dia-accion-gracias\n",
            "https://usa.gov/es/dia-de-los-veteranos\n",
            "https://usa.gov/holidays\n",
            "https://usa.gov/flag\n",
            "https://usa.gov/es/bandera-estados-unidos\n",
            "https://usa.gov/es/sucesion-presidencial\n",
            "https://usa.gov/es/moneda-estadounidense\n",
            "https://usa.gov/es/idioma-oficial-estados-unidos\n",
            "https://usa.gov/es/censo-estados-unidos\n",
            "https://usa.gov/es/proceso-presupuesto-gobierno-estados-unidos\n",
            "https://usa.gov/es/himno-nacional-estados-unidos\n",
            "https://usa.gov/es/presidente-vicepresidente-primera-dama\n",
            "https://usa.gov/es/documentos-historicos-estados-unidos\n",
            "https://usa.gov/state-local-governments\n",
            "https://usa.gov/state-health\n",
            "https://usa.gov/health-information\n",
            "https://usa.gov/es/informacion-confiable-salud\n",
            "https://usa.gov/es/problemas-salud-mental\n",
            "https://usa.gov/es/ayuda-abuso-alcohol-drogas\n",
            "https://usa.gov/es/ayuda-gastos-medicos\n",
            "https://usa.gov/es/seguros-medicos\n",
            "https://usa.gov/es/continuacion-seguro-medico-cobra\n",
            "https://usa.gov/cobra-health-insurance\n",
            "https://usa.gov/health-insurance-marketplace\n",
            "https://usa.gov/medicare\n",
            "https://usa.gov/es/salud-mercado-seguros-medicos-aca\n",
            "Remote end closed connection without response\n",
            "https://usa.gov/es/seguros-medicos-medicaid-chip\n",
            "https://usa.gov/es/seguros-medicos-medicare\n",
            "https://usa.gov/es/prepararse-para-la-jubilacion\n",
            "https://usa.gov/es/beneficios-jubilacion-seguro-social\n",
            "https://usa.gov/social-security-calculators\n",
            "https://usa.gov/social-security-abroad\n",
            "https://usa.gov/social-security-report-a-death\n",
            "https://usa.gov/social-security-disability\n",
            "https://usa.gov/what-is-social-security\n",
            "https://usa.gov/es/reportar-muerte-al-seguro-social\n",
            "https://usa.gov/es/sacar-reemplazar-tarjeta-seguro-social\n",
            "https://usa.gov/es/seguro-social-incapacidad-discapacidad\n",
            "https://usa.gov/es/beneficios-seguro-social-extrajero\n",
            "https://usa.gov/es/que-es-el-seguro-social\n",
            "https://usa.gov/es/programas-alimentos-adultos-mayores\n",
            "https://usa.gov/es/solicitar-cupones-alimentos-snap\n",
            "https://usa.gov/senior-food-programs\n",
            "https://usa.gov/native-american-food-programs\n",
            "https://usa.gov/emergency-food-assistance\n",
            "https://usa.gov/school-meals\n",
            "https://usa.gov/es/comida-gratis-en-escuela\n",
            "https://usa.gov/es/conseguir-alimentos-emergencia\n",
            "https://usa.gov/es/wic-asistencia-mujeres-ninos-bebes\n",
            "https://usa.gov/es/salud\n",
            "https://usa.gov/substance-abuse\n",
            "https://usa.gov/mental-health\n",
            "https://usa.gov/health-insurance\n",
            "https://usa.gov/help-with-medical-bills\n",
            "https://usa.gov/state-emergency-management\n",
            "https://usa.gov/disaster-financial-help\n",
            "https://usa.gov/disaster-unemployment\n",
            "https://usa.gov/es/beneficios-desempleo-desastre\n",
            "https://usa.gov/es/desastre-refugio-vivienda\n",
            "https://usa.gov/es/ayuda-hipoteca-desastre\n",
            "https://usa.gov/es/prestamos-por-desastre-pequenas-empresas\n",
            "https://usa.gov/es/desastres-emergencias\n",
            "https://usa.gov/es/recuperarse-desastre-natural\n",
            "https://usa.gov/es/ayuda-conseguir-alimentos-desastre\n",
            "https://usa.gov/es/ayuda-pagar-facturas-desastre\n",
            "https://usa.gov/es/ayudar-sobrevivientes-desastre\n",
            "https://usa.gov/es/solicitar-asistencia-desastre\n",
            "https://usa.gov/disaster-food-help\n",
            "https://usa.gov/es/ayuda-financiera-desastre\n",
            "https://usa.gov/disaster-help-with-bills\n",
            "https://usa.gov/disaster-small-business\n",
            "https://usa.gov/disaster-mortgage\n",
            "https://usa.gov/disaster-assistance\n",
            "https://usa.gov/help-disaster-survivors\n",
            "https://usa.gov/disaster-housing-shelter\n",
            "https://usa.gov/state-consumer\n",
            "https://usa.gov/bank-credit-complaints\n",
            "https://usa.gov/housing-complaints\n",
            "https://usa.gov/mortgage-company-complaints\n",
            "https://usa.gov/tenant-rights\n",
            "https://usa.gov/es/derechos-inquilinos\n",
            "https://usa.gov/es/programas-gobierno-comprar-vivienda\n",
            "https://usa.gov/es/programas-asistencia-hipotecaria-gobierno\n",
            "https://usa.gov/government-home-loans\n",
            "https://usa.gov/home-ownership-voucher\n",
            "https://usa.gov/real-estate-sales\n",
            "https://usa.gov/car-auctions\n",
            "https://usa.gov/boat-aircraft-auctions\n",
            "https://usa.gov/auctions-and-sales\n",
            "https://usa.gov/es/programas-gobierno-compra-vivienda\n",
            "https://usa.gov/es/programas-climatizacion\n"
          ]
        },
        {
          "output_type": "error",
          "ename": "KeyboardInterrupt",
          "evalue": "ignored",
          "traceback": [
            "\u001b[0;31m---------------------------------------------------------------------------\u001b[0m",
            "\u001b[0;31mKeyboardInterrupt\u001b[0m                         Traceback (most recent call last)",
            "\u001b[0;32m<ipython-input-13-7ca88c757d2b>\u001b[0m in \u001b[0;36m<cell line: 51>\u001b[0;34m()\u001b[0m\n\u001b[1;32m     49\u001b[0m                 \u001b[0mseen\u001b[0m\u001b[0;34m.\u001b[0m\u001b[0madd\u001b[0m\u001b[0;34m(\u001b[0m\u001b[0mlink\u001b[0m\u001b[0;34m)\u001b[0m\u001b[0;34m\u001b[0m\u001b[0;34m\u001b[0m\u001b[0m\n\u001b[1;32m     50\u001b[0m \u001b[0;34m\u001b[0m\u001b[0m\n\u001b[0;32m---> 51\u001b[0;31m \u001b[0mcrawl\u001b[0m\u001b[0;34m(\u001b[0m\u001b[0mfull_url\u001b[0m\u001b[0;34m)\u001b[0m\u001b[0;34m\u001b[0m\u001b[0;34m\u001b[0m\u001b[0m\n\u001b[0m",
            "\u001b[0;32m<ipython-input-13-7ca88c757d2b>\u001b[0m in \u001b[0;36mcrawl\u001b[0;34m(url)\u001b[0m\n\u001b[1;32m     31\u001b[0m \u001b[0;34m\u001b[0m\u001b[0m\n\u001b[1;32m     32\u001b[0m             \u001b[0;31m# Get the text from the URL using BeautifulSoup\u001b[0m\u001b[0;34m\u001b[0m\u001b[0;34m\u001b[0m\u001b[0m\n\u001b[0;32m---> 33\u001b[0;31m             \u001b[0msoup\u001b[0m \u001b[0;34m=\u001b[0m \u001b[0mBeautifulSoup\u001b[0m\u001b[0;34m(\u001b[0m\u001b[0mrequests\u001b[0m\u001b[0;34m.\u001b[0m\u001b[0mget\u001b[0m\u001b[0;34m(\u001b[0m\u001b[0murl\u001b[0m\u001b[0;34m)\u001b[0m\u001b[0;34m.\u001b[0m\u001b[0mtext\u001b[0m\u001b[0;34m,\u001b[0m \u001b[0;34m\"html.parser\"\u001b[0m\u001b[0;34m)\u001b[0m\u001b[0;34m\u001b[0m\u001b[0;34m\u001b[0m\u001b[0m\n\u001b[0m\u001b[1;32m     34\u001b[0m \u001b[0;34m\u001b[0m\u001b[0m\n\u001b[1;32m     35\u001b[0m             \u001b[0;31m# Get the text but remove the tags\u001b[0m\u001b[0;34m\u001b[0m\u001b[0;34m\u001b[0m\u001b[0m\n",
            "\u001b[0;32m/usr/local/lib/python3.9/dist-packages/requests/api.py\u001b[0m in \u001b[0;36mget\u001b[0;34m(url, params, **kwargs)\u001b[0m\n\u001b[1;32m     73\u001b[0m     \"\"\"\n\u001b[1;32m     74\u001b[0m \u001b[0;34m\u001b[0m\u001b[0m\n\u001b[0;32m---> 75\u001b[0;31m     \u001b[0;32mreturn\u001b[0m \u001b[0mrequest\u001b[0m\u001b[0;34m(\u001b[0m\u001b[0;34m'get'\u001b[0m\u001b[0;34m,\u001b[0m \u001b[0murl\u001b[0m\u001b[0;34m,\u001b[0m \u001b[0mparams\u001b[0m\u001b[0;34m=\u001b[0m\u001b[0mparams\u001b[0m\u001b[0;34m,\u001b[0m \u001b[0;34m**\u001b[0m\u001b[0mkwargs\u001b[0m\u001b[0;34m)\u001b[0m\u001b[0;34m\u001b[0m\u001b[0;34m\u001b[0m\u001b[0m\n\u001b[0m\u001b[1;32m     76\u001b[0m \u001b[0;34m\u001b[0m\u001b[0m\n\u001b[1;32m     77\u001b[0m \u001b[0;34m\u001b[0m\u001b[0m\n",
            "\u001b[0;32m/usr/local/lib/python3.9/dist-packages/requests/api.py\u001b[0m in \u001b[0;36mrequest\u001b[0;34m(method, url, **kwargs)\u001b[0m\n\u001b[1;32m     59\u001b[0m     \u001b[0;31m# cases, and look like a memory leak in others.\u001b[0m\u001b[0;34m\u001b[0m\u001b[0;34m\u001b[0m\u001b[0m\n\u001b[1;32m     60\u001b[0m     \u001b[0;32mwith\u001b[0m \u001b[0msessions\u001b[0m\u001b[0;34m.\u001b[0m\u001b[0mSession\u001b[0m\u001b[0;34m(\u001b[0m\u001b[0;34m)\u001b[0m \u001b[0;32mas\u001b[0m \u001b[0msession\u001b[0m\u001b[0;34m:\u001b[0m\u001b[0;34m\u001b[0m\u001b[0;34m\u001b[0m\u001b[0m\n\u001b[0;32m---> 61\u001b[0;31m         \u001b[0;32mreturn\u001b[0m \u001b[0msession\u001b[0m\u001b[0;34m.\u001b[0m\u001b[0mrequest\u001b[0m\u001b[0;34m(\u001b[0m\u001b[0mmethod\u001b[0m\u001b[0;34m=\u001b[0m\u001b[0mmethod\u001b[0m\u001b[0;34m,\u001b[0m \u001b[0murl\u001b[0m\u001b[0;34m=\u001b[0m\u001b[0murl\u001b[0m\u001b[0;34m,\u001b[0m \u001b[0;34m**\u001b[0m\u001b[0mkwargs\u001b[0m\u001b[0;34m)\u001b[0m\u001b[0;34m\u001b[0m\u001b[0;34m\u001b[0m\u001b[0m\n\u001b[0m\u001b[1;32m     62\u001b[0m \u001b[0;34m\u001b[0m\u001b[0m\n\u001b[1;32m     63\u001b[0m \u001b[0;34m\u001b[0m\u001b[0m\n",
            "\u001b[0;32m/usr/local/lib/python3.9/dist-packages/requests/sessions.py\u001b[0m in \u001b[0;36mrequest\u001b[0;34m(self, method, url, params, data, headers, cookies, files, auth, timeout, allow_redirects, proxies, hooks, stream, verify, cert, json)\u001b[0m\n\u001b[1;32m    527\u001b[0m         }\n\u001b[1;32m    528\u001b[0m         \u001b[0msend_kwargs\u001b[0m\u001b[0;34m.\u001b[0m\u001b[0mupdate\u001b[0m\u001b[0;34m(\u001b[0m\u001b[0msettings\u001b[0m\u001b[0;34m)\u001b[0m\u001b[0;34m\u001b[0m\u001b[0;34m\u001b[0m\u001b[0m\n\u001b[0;32m--> 529\u001b[0;31m         \u001b[0mresp\u001b[0m \u001b[0;34m=\u001b[0m \u001b[0mself\u001b[0m\u001b[0;34m.\u001b[0m\u001b[0msend\u001b[0m\u001b[0;34m(\u001b[0m\u001b[0mprep\u001b[0m\u001b[0;34m,\u001b[0m \u001b[0;34m**\u001b[0m\u001b[0msend_kwargs\u001b[0m\u001b[0;34m)\u001b[0m\u001b[0;34m\u001b[0m\u001b[0;34m\u001b[0m\u001b[0m\n\u001b[0m\u001b[1;32m    530\u001b[0m \u001b[0;34m\u001b[0m\u001b[0m\n\u001b[1;32m    531\u001b[0m         \u001b[0;32mreturn\u001b[0m \u001b[0mresp\u001b[0m\u001b[0;34m\u001b[0m\u001b[0;34m\u001b[0m\u001b[0m\n",
            "\u001b[0;32m/usr/local/lib/python3.9/dist-packages/requests/sessions.py\u001b[0m in \u001b[0;36msend\u001b[0;34m(self, request, **kwargs)\u001b[0m\n\u001b[1;32m    643\u001b[0m \u001b[0;34m\u001b[0m\u001b[0m\n\u001b[1;32m    644\u001b[0m         \u001b[0;31m# Send the request\u001b[0m\u001b[0;34m\u001b[0m\u001b[0;34m\u001b[0m\u001b[0m\n\u001b[0;32m--> 645\u001b[0;31m         \u001b[0mr\u001b[0m \u001b[0;34m=\u001b[0m \u001b[0madapter\u001b[0m\u001b[0;34m.\u001b[0m\u001b[0msend\u001b[0m\u001b[0;34m(\u001b[0m\u001b[0mrequest\u001b[0m\u001b[0;34m,\u001b[0m \u001b[0;34m**\u001b[0m\u001b[0mkwargs\u001b[0m\u001b[0;34m)\u001b[0m\u001b[0;34m\u001b[0m\u001b[0;34m\u001b[0m\u001b[0m\n\u001b[0m\u001b[1;32m    646\u001b[0m \u001b[0;34m\u001b[0m\u001b[0m\n\u001b[1;32m    647\u001b[0m         \u001b[0;31m# Total elapsed time of the request (approximately)\u001b[0m\u001b[0;34m\u001b[0m\u001b[0;34m\u001b[0m\u001b[0m\n",
            "\u001b[0;32m/usr/local/lib/python3.9/dist-packages/requests/adapters.py\u001b[0m in \u001b[0;36msend\u001b[0;34m(self, request, stream, timeout, verify, cert, proxies)\u001b[0m\n\u001b[1;32m    438\u001b[0m         \u001b[0;32mtry\u001b[0m\u001b[0;34m:\u001b[0m\u001b[0;34m\u001b[0m\u001b[0;34m\u001b[0m\u001b[0m\n\u001b[1;32m    439\u001b[0m             \u001b[0;32mif\u001b[0m \u001b[0;32mnot\u001b[0m \u001b[0mchunked\u001b[0m\u001b[0;34m:\u001b[0m\u001b[0;34m\u001b[0m\u001b[0;34m\u001b[0m\u001b[0m\n\u001b[0;32m--> 440\u001b[0;31m                 resp = conn.urlopen(\n\u001b[0m\u001b[1;32m    441\u001b[0m                     \u001b[0mmethod\u001b[0m\u001b[0;34m=\u001b[0m\u001b[0mrequest\u001b[0m\u001b[0;34m.\u001b[0m\u001b[0mmethod\u001b[0m\u001b[0;34m,\u001b[0m\u001b[0;34m\u001b[0m\u001b[0;34m\u001b[0m\u001b[0m\n\u001b[1;32m    442\u001b[0m                     \u001b[0murl\u001b[0m\u001b[0;34m=\u001b[0m\u001b[0murl\u001b[0m\u001b[0;34m,\u001b[0m\u001b[0;34m\u001b[0m\u001b[0;34m\u001b[0m\u001b[0m\n",
            "\u001b[0;32m/usr/local/lib/python3.9/dist-packages/urllib3/connectionpool.py\u001b[0m in \u001b[0;36murlopen\u001b[0;34m(self, method, url, body, headers, retries, redirect, assert_same_host, timeout, pool_timeout, release_conn, chunked, body_pos, **response_kw)\u001b[0m\n\u001b[1;32m    701\u001b[0m \u001b[0;34m\u001b[0m\u001b[0m\n\u001b[1;32m    702\u001b[0m             \u001b[0;31m# Make the request on the httplib connection object.\u001b[0m\u001b[0;34m\u001b[0m\u001b[0;34m\u001b[0m\u001b[0m\n\u001b[0;32m--> 703\u001b[0;31m             httplib_response = self._make_request(\n\u001b[0m\u001b[1;32m    704\u001b[0m                 \u001b[0mconn\u001b[0m\u001b[0;34m,\u001b[0m\u001b[0;34m\u001b[0m\u001b[0;34m\u001b[0m\u001b[0m\n\u001b[1;32m    705\u001b[0m                 \u001b[0mmethod\u001b[0m\u001b[0;34m,\u001b[0m\u001b[0;34m\u001b[0m\u001b[0;34m\u001b[0m\u001b[0m\n",
            "\u001b[0;32m/usr/local/lib/python3.9/dist-packages/urllib3/connectionpool.py\u001b[0m in \u001b[0;36m_make_request\u001b[0;34m(self, conn, method, url, timeout, chunked, **httplib_request_kw)\u001b[0m\n\u001b[1;32m    384\u001b[0m         \u001b[0;31m# Trigger any extra validation we need to do.\u001b[0m\u001b[0;34m\u001b[0m\u001b[0;34m\u001b[0m\u001b[0m\n\u001b[1;32m    385\u001b[0m         \u001b[0;32mtry\u001b[0m\u001b[0;34m:\u001b[0m\u001b[0;34m\u001b[0m\u001b[0;34m\u001b[0m\u001b[0m\n\u001b[0;32m--> 386\u001b[0;31m             \u001b[0mself\u001b[0m\u001b[0;34m.\u001b[0m\u001b[0m_validate_conn\u001b[0m\u001b[0;34m(\u001b[0m\u001b[0mconn\u001b[0m\u001b[0;34m)\u001b[0m\u001b[0;34m\u001b[0m\u001b[0;34m\u001b[0m\u001b[0m\n\u001b[0m\u001b[1;32m    387\u001b[0m         \u001b[0;32mexcept\u001b[0m \u001b[0;34m(\u001b[0m\u001b[0mSocketTimeout\u001b[0m\u001b[0;34m,\u001b[0m \u001b[0mBaseSSLError\u001b[0m\u001b[0;34m)\u001b[0m \u001b[0;32mas\u001b[0m \u001b[0me\u001b[0m\u001b[0;34m:\u001b[0m\u001b[0;34m\u001b[0m\u001b[0;34m\u001b[0m\u001b[0m\n\u001b[1;32m    388\u001b[0m             \u001b[0;31m# Py2 raises this as a BaseSSLError, Py3 raises it as socket timeout.\u001b[0m\u001b[0;34m\u001b[0m\u001b[0;34m\u001b[0m\u001b[0m\n",
            "\u001b[0;32m/usr/local/lib/python3.9/dist-packages/urllib3/connectionpool.py\u001b[0m in \u001b[0;36m_validate_conn\u001b[0;34m(self, conn)\u001b[0m\n\u001b[1;32m   1040\u001b[0m         \u001b[0;31m# Force connect early to allow us to validate the connection.\u001b[0m\u001b[0;34m\u001b[0m\u001b[0;34m\u001b[0m\u001b[0m\n\u001b[1;32m   1041\u001b[0m         \u001b[0;32mif\u001b[0m \u001b[0;32mnot\u001b[0m \u001b[0mgetattr\u001b[0m\u001b[0;34m(\u001b[0m\u001b[0mconn\u001b[0m\u001b[0;34m,\u001b[0m \u001b[0;34m\"sock\"\u001b[0m\u001b[0;34m,\u001b[0m \u001b[0;32mNone\u001b[0m\u001b[0;34m)\u001b[0m\u001b[0;34m:\u001b[0m  \u001b[0;31m# AppEngine might not have  `.sock`\u001b[0m\u001b[0;34m\u001b[0m\u001b[0;34m\u001b[0m\u001b[0m\n\u001b[0;32m-> 1042\u001b[0;31m             \u001b[0mconn\u001b[0m\u001b[0;34m.\u001b[0m\u001b[0mconnect\u001b[0m\u001b[0;34m(\u001b[0m\u001b[0;34m)\u001b[0m\u001b[0;34m\u001b[0m\u001b[0;34m\u001b[0m\u001b[0m\n\u001b[0m\u001b[1;32m   1043\u001b[0m \u001b[0;34m\u001b[0m\u001b[0m\n\u001b[1;32m   1044\u001b[0m         \u001b[0;32mif\u001b[0m \u001b[0;32mnot\u001b[0m \u001b[0mconn\u001b[0m\u001b[0;34m.\u001b[0m\u001b[0mis_verified\u001b[0m\u001b[0;34m:\u001b[0m\u001b[0;34m\u001b[0m\u001b[0;34m\u001b[0m\u001b[0m\n",
            "\u001b[0;32m/usr/local/lib/python3.9/dist-packages/urllib3/connection.py\u001b[0m in \u001b[0;36mconnect\u001b[0;34m(self)\u001b[0m\n\u001b[1;32m    417\u001b[0m             \u001b[0mcontext\u001b[0m\u001b[0;34m.\u001b[0m\u001b[0mload_default_certs\u001b[0m\u001b[0;34m(\u001b[0m\u001b[0;34m)\u001b[0m\u001b[0;34m\u001b[0m\u001b[0;34m\u001b[0m\u001b[0m\n\u001b[1;32m    418\u001b[0m \u001b[0;34m\u001b[0m\u001b[0m\n\u001b[0;32m--> 419\u001b[0;31m         self.sock = ssl_wrap_socket(\n\u001b[0m\u001b[1;32m    420\u001b[0m             \u001b[0msock\u001b[0m\u001b[0;34m=\u001b[0m\u001b[0mconn\u001b[0m\u001b[0;34m,\u001b[0m\u001b[0;34m\u001b[0m\u001b[0;34m\u001b[0m\u001b[0m\n\u001b[1;32m    421\u001b[0m             \u001b[0mkeyfile\u001b[0m\u001b[0;34m=\u001b[0m\u001b[0mself\u001b[0m\u001b[0;34m.\u001b[0m\u001b[0mkey_file\u001b[0m\u001b[0;34m,\u001b[0m\u001b[0;34m\u001b[0m\u001b[0;34m\u001b[0m\u001b[0m\n",
            "\u001b[0;32m/usr/local/lib/python3.9/dist-packages/urllib3/util/ssl_.py\u001b[0m in \u001b[0;36mssl_wrap_socket\u001b[0;34m(sock, keyfile, certfile, cert_reqs, ca_certs, server_hostname, ssl_version, ciphers, ssl_context, ca_cert_dir, key_password, ca_cert_data, tls_in_tls)\u001b[0m\n\u001b[1;32m    447\u001b[0m \u001b[0;34m\u001b[0m\u001b[0m\n\u001b[1;32m    448\u001b[0m     \u001b[0;32mif\u001b[0m \u001b[0msend_sni\u001b[0m\u001b[0;34m:\u001b[0m\u001b[0;34m\u001b[0m\u001b[0;34m\u001b[0m\u001b[0m\n\u001b[0;32m--> 449\u001b[0;31m         ssl_sock = _ssl_wrap_socket_impl(\n\u001b[0m\u001b[1;32m    450\u001b[0m             \u001b[0msock\u001b[0m\u001b[0;34m,\u001b[0m \u001b[0mcontext\u001b[0m\u001b[0;34m,\u001b[0m \u001b[0mtls_in_tls\u001b[0m\u001b[0;34m,\u001b[0m \u001b[0mserver_hostname\u001b[0m\u001b[0;34m=\u001b[0m\u001b[0mserver_hostname\u001b[0m\u001b[0;34m\u001b[0m\u001b[0;34m\u001b[0m\u001b[0m\n\u001b[1;32m    451\u001b[0m         )\n",
            "\u001b[0;32m/usr/local/lib/python3.9/dist-packages/urllib3/util/ssl_.py\u001b[0m in \u001b[0;36m_ssl_wrap_socket_impl\u001b[0;34m(sock, ssl_context, tls_in_tls, server_hostname)\u001b[0m\n\u001b[1;32m    491\u001b[0m \u001b[0;34m\u001b[0m\u001b[0m\n\u001b[1;32m    492\u001b[0m     \u001b[0;32mif\u001b[0m \u001b[0mserver_hostname\u001b[0m\u001b[0;34m:\u001b[0m\u001b[0;34m\u001b[0m\u001b[0;34m\u001b[0m\u001b[0m\n\u001b[0;32m--> 493\u001b[0;31m         \u001b[0;32mreturn\u001b[0m \u001b[0mssl_context\u001b[0m\u001b[0;34m.\u001b[0m\u001b[0mwrap_socket\u001b[0m\u001b[0;34m(\u001b[0m\u001b[0msock\u001b[0m\u001b[0;34m,\u001b[0m \u001b[0mserver_hostname\u001b[0m\u001b[0;34m=\u001b[0m\u001b[0mserver_hostname\u001b[0m\u001b[0;34m)\u001b[0m\u001b[0;34m\u001b[0m\u001b[0;34m\u001b[0m\u001b[0m\n\u001b[0m\u001b[1;32m    494\u001b[0m     \u001b[0;32melse\u001b[0m\u001b[0;34m:\u001b[0m\u001b[0;34m\u001b[0m\u001b[0;34m\u001b[0m\u001b[0m\n\u001b[1;32m    495\u001b[0m         \u001b[0;32mreturn\u001b[0m \u001b[0mssl_context\u001b[0m\u001b[0;34m.\u001b[0m\u001b[0mwrap_socket\u001b[0m\u001b[0;34m(\u001b[0m\u001b[0msock\u001b[0m\u001b[0;34m)\u001b[0m\u001b[0;34m\u001b[0m\u001b[0;34m\u001b[0m\u001b[0m\n",
            "\u001b[0;32m/usr/lib/python3.9/ssl.py\u001b[0m in \u001b[0;36mwrap_socket\u001b[0;34m(self, sock, server_side, do_handshake_on_connect, suppress_ragged_eofs, server_hostname, session)\u001b[0m\n\u001b[1;32m    499\u001b[0m         \u001b[0;31m# SSLSocket class handles server_hostname encoding before it calls\u001b[0m\u001b[0;34m\u001b[0m\u001b[0;34m\u001b[0m\u001b[0m\n\u001b[1;32m    500\u001b[0m         \u001b[0;31m# ctx._wrap_socket()\u001b[0m\u001b[0;34m\u001b[0m\u001b[0;34m\u001b[0m\u001b[0m\n\u001b[0;32m--> 501\u001b[0;31m         return self.sslsocket_class._create(\n\u001b[0m\u001b[1;32m    502\u001b[0m             \u001b[0msock\u001b[0m\u001b[0;34m=\u001b[0m\u001b[0msock\u001b[0m\u001b[0;34m,\u001b[0m\u001b[0;34m\u001b[0m\u001b[0;34m\u001b[0m\u001b[0m\n\u001b[1;32m    503\u001b[0m             \u001b[0mserver_side\u001b[0m\u001b[0;34m=\u001b[0m\u001b[0mserver_side\u001b[0m\u001b[0;34m,\u001b[0m\u001b[0;34m\u001b[0m\u001b[0;34m\u001b[0m\u001b[0m\n",
            "\u001b[0;32m/usr/lib/python3.9/ssl.py\u001b[0m in \u001b[0;36m_create\u001b[0;34m(cls, sock, server_side, do_handshake_on_connect, suppress_ragged_eofs, server_hostname, context, session)\u001b[0m\n\u001b[1;32m   1039\u001b[0m                         \u001b[0;31m# non-blocking\u001b[0m\u001b[0;34m\u001b[0m\u001b[0;34m\u001b[0m\u001b[0m\n\u001b[1;32m   1040\u001b[0m                         \u001b[0;32mraise\u001b[0m \u001b[0mValueError\u001b[0m\u001b[0;34m(\u001b[0m\u001b[0;34m\"do_handshake_on_connect should not be specified for non-blocking sockets\"\u001b[0m\u001b[0;34m)\u001b[0m\u001b[0;34m\u001b[0m\u001b[0;34m\u001b[0m\u001b[0m\n\u001b[0;32m-> 1041\u001b[0;31m                     \u001b[0mself\u001b[0m\u001b[0;34m.\u001b[0m\u001b[0mdo_handshake\u001b[0m\u001b[0;34m(\u001b[0m\u001b[0;34m)\u001b[0m\u001b[0;34m\u001b[0m\u001b[0;34m\u001b[0m\u001b[0m\n\u001b[0m\u001b[1;32m   1042\u001b[0m             \u001b[0;32mexcept\u001b[0m \u001b[0;34m(\u001b[0m\u001b[0mOSError\u001b[0m\u001b[0;34m,\u001b[0m \u001b[0mValueError\u001b[0m\u001b[0;34m)\u001b[0m\u001b[0;34m:\u001b[0m\u001b[0;34m\u001b[0m\u001b[0;34m\u001b[0m\u001b[0m\n\u001b[1;32m   1043\u001b[0m                 \u001b[0mself\u001b[0m\u001b[0;34m.\u001b[0m\u001b[0mclose\u001b[0m\u001b[0;34m(\u001b[0m\u001b[0;34m)\u001b[0m\u001b[0;34m\u001b[0m\u001b[0;34m\u001b[0m\u001b[0m\n",
            "\u001b[0;32m/usr/lib/python3.9/ssl.py\u001b[0m in \u001b[0;36mdo_handshake\u001b[0;34m(self, block)\u001b[0m\n\u001b[1;32m   1308\u001b[0m             \u001b[0;32mif\u001b[0m \u001b[0mtimeout\u001b[0m \u001b[0;34m==\u001b[0m \u001b[0;36m0.0\u001b[0m \u001b[0;32mand\u001b[0m \u001b[0mblock\u001b[0m\u001b[0;34m:\u001b[0m\u001b[0;34m\u001b[0m\u001b[0;34m\u001b[0m\u001b[0m\n\u001b[1;32m   1309\u001b[0m                 \u001b[0mself\u001b[0m\u001b[0;34m.\u001b[0m\u001b[0msettimeout\u001b[0m\u001b[0;34m(\u001b[0m\u001b[0;32mNone\u001b[0m\u001b[0;34m)\u001b[0m\u001b[0;34m\u001b[0m\u001b[0;34m\u001b[0m\u001b[0m\n\u001b[0;32m-> 1310\u001b[0;31m             \u001b[0mself\u001b[0m\u001b[0;34m.\u001b[0m\u001b[0m_sslobj\u001b[0m\u001b[0;34m.\u001b[0m\u001b[0mdo_handshake\u001b[0m\u001b[0;34m(\u001b[0m\u001b[0;34m)\u001b[0m\u001b[0;34m\u001b[0m\u001b[0;34m\u001b[0m\u001b[0m\n\u001b[0m\u001b[1;32m   1311\u001b[0m         \u001b[0;32mfinally\u001b[0m\u001b[0;34m:\u001b[0m\u001b[0;34m\u001b[0m\u001b[0;34m\u001b[0m\u001b[0m\n\u001b[1;32m   1312\u001b[0m             \u001b[0mself\u001b[0m\u001b[0;34m.\u001b[0m\u001b[0msettimeout\u001b[0m\u001b[0;34m(\u001b[0m\u001b[0mtimeout\u001b[0m\u001b[0;34m)\u001b[0m\u001b[0;34m\u001b[0m\u001b[0;34m\u001b[0m\u001b[0m\n",
            "\u001b[0;31mKeyboardInterrupt\u001b[0m: "
          ]
        }
      ],
      "source": [
        "#Url Crawl\n",
        "def crawl(url):\n",
        "    # Parse the URL and get the domain\n",
        "    local_domain = urlparse(url).netloc\n",
        "\n",
        "    # Create a queue to store the URLs to crawl\n",
        "    queue = deque([url])\n",
        "\n",
        "    # Create a set to store the URLs that have already been seen (no duplicates)\n",
        "    seen = set([url])\n",
        "\n",
        "    # Create a directory to store the text files\n",
        "    if not os.path.exists(\"text/\"):\n",
        "        os.mkdir(\"text/\")\n",
        "\n",
        "    if not os.path.exists(\"text/\"+local_domain+\"/\"):\n",
        "        os.mkdir(\"text/\" + local_domain + \"/\")\n",
        "\n",
        "    # Create a directory to store the csv files\n",
        "    if not os.path.exists(\"processed\"):\n",
        "        os.mkdir(\"processed\")\n",
        "\n",
        "    # While the queue is not empty, continue crawling\n",
        "    while queue:\n",
        "\n",
        "        # Get the next URL from the queue\n",
        "        url = queue.pop()\n",
        "        print(url) # for debugging and to see the progress\n",
        "\n",
        "        # Save text from the url to a <url>.txt file\n",
        "        with open('text/'+local_domain+'/'+url[8:].replace(\"/\", \"_\") + \".txt\", \"w\", encoding=\"UTF-8\") as f:\n",
        "\n",
        "            # Get the text from the URL using BeautifulSoup\n",
        "            soup = BeautifulSoup(requests.get(url).text, \"html.parser\")\n",
        "\n",
        "            # Get the text but remove the tags\n",
        "            text = soup.get_text()\n",
        "\n",
        "            # If the crawler gets to a page that requires JavaScript, it will stop the crawl\n",
        "            if (\"You need to enable JavaScript to run this app.\" in text):\n",
        "                print(\"Unable to parse page \" + url + \" due to JavaScript being required\")\n",
        "\n",
        "            # Otherwise, write the text to the file in the text directory\n",
        "            f.write(text)\n",
        "\n",
        "        # Get the hyperlinks from the URL and add them to the queue\n",
        "        for link in get_domain_hyperlinks(local_domain, url):\n",
        "            if link not in seen:\n",
        "                queue.append(link)\n",
        "                seen.add(link)\n",
        "\n",
        "crawl(full_url)"
      ]
    },
    {
      "cell_type": "markdown",
      "metadata": {
        "pycharm": {
          "name": "#%% md\n"
        },
        "id": "G7N7w5ZqoL9O"
      },
      "source": [
        "# Building Embeddings index"
      ]
    },
    {
      "cell_type": "code",
      "execution_count": null,
      "metadata": {
        "pycharm": {
          "name": "#%%\n"
        },
        "id": "FMlt48HVoL9P"
      },
      "outputs": [],
      "source": [
        "#Removes newline characters and repeated spaces from each element in the Series\n",
        "def remove_newlines(serie):\n",
        "    serie = serie.str.replace('\\n', ' ')\n",
        "    serie = serie.str.replace('\\\\n', ' ')\n",
        "    serie = serie.str.replace('  ', ' ')\n",
        "    serie = serie.str.replace('  ', ' ')\n",
        "    return serie\n"
      ]
    },
    {
      "cell_type": "code",
      "execution_count": null,
      "metadata": {
        "pycharm": {
          "name": "#%%\n"
        },
        "colab": {
          "base_uri": "https://localhost:8080/",
          "height": 1902
        },
        "id": "_o7uqw7OoL9Q",
        "outputId": "fd0efcea-bc28-4696-d5f9-a4ceafbc8bb2"
      },
      "outputs": [
        {
          "output_type": "stream",
          "name": "stderr",
          "text": [
            "<ipython-input-14-7660063ba737>:4: FutureWarning: The default value of regex will change from True to False in a future version.\n",
            "  serie = serie.str.replace('\\\\n', ' ')\n"
          ]
        },
        {
          "output_type": "execute_result",
          "data": {
            "text/plain": [
              "                                    fname  \\\n",
              "0                itary tuition assistance   \n",
              "1                   ort safety violations   \n",
              "2  seguro social incapacidad discapacidad   \n",
              "3                       ior food programs   \n",
              "4    documentos historicos estados unidos   \n",
              "\n",
              "                                                text  \n",
              "0  itary tuition assistance.    Military tuition ...  \n",
              "1  ort safety violations.    Where to report work...  \n",
              "2  seguro social incapacidad discapacidad.    Ben...  \n",
              "3  ior food programs.    Food assistance programs...  \n",
              "4  documentos historicos estados unidos.    Docum...  "
            ],
            "text/html": [
              "\n",
              "  <div id=\"df-b74714cd-d4ee-40d5-bf1d-c2e56edb46e4\">\n",
              "    <div class=\"colab-df-container\">\n",
              "      <div>\n",
              "<style scoped>\n",
              "    .dataframe tbody tr th:only-of-type {\n",
              "        vertical-align: middle;\n",
              "    }\n",
              "\n",
              "    .dataframe tbody tr th {\n",
              "        vertical-align: top;\n",
              "    }\n",
              "\n",
              "    .dataframe thead th {\n",
              "        text-align: right;\n",
              "    }\n",
              "</style>\n",
              "<table border=\"1\" class=\"dataframe\">\n",
              "  <thead>\n",
              "    <tr style=\"text-align: right;\">\n",
              "      <th></th>\n",
              "      <th>fname</th>\n",
              "      <th>text</th>\n",
              "    </tr>\n",
              "  </thead>\n",
              "  <tbody>\n",
              "    <tr>\n",
              "      <th>0</th>\n",
              "      <td>itary tuition assistance</td>\n",
              "      <td>itary tuition assistance.    Military tuition ...</td>\n",
              "    </tr>\n",
              "    <tr>\n",
              "      <th>1</th>\n",
              "      <td>ort safety violations</td>\n",
              "      <td>ort safety violations.    Where to report work...</td>\n",
              "    </tr>\n",
              "    <tr>\n",
              "      <th>2</th>\n",
              "      <td>seguro social incapacidad discapacidad</td>\n",
              "      <td>seguro social incapacidad discapacidad.    Ben...</td>\n",
              "    </tr>\n",
              "    <tr>\n",
              "      <th>3</th>\n",
              "      <td>ior food programs</td>\n",
              "      <td>ior food programs.    Food assistance programs...</td>\n",
              "    </tr>\n",
              "    <tr>\n",
              "      <th>4</th>\n",
              "      <td>documentos historicos estados unidos</td>\n",
              "      <td>documentos historicos estados unidos.    Docum...</td>\n",
              "    </tr>\n",
              "  </tbody>\n",
              "</table>\n",
              "</div>\n",
              "      <button class=\"colab-df-convert\" onclick=\"convertToInteractive('df-b74714cd-d4ee-40d5-bf1d-c2e56edb46e4')\"\n",
              "              title=\"Convert this dataframe to an interactive table.\"\n",
              "              style=\"display:none;\">\n",
              "        \n",
              "  <svg xmlns=\"http://www.w3.org/2000/svg\" height=\"24px\"viewBox=\"0 0 24 24\"\n",
              "       width=\"24px\">\n",
              "    <path d=\"M0 0h24v24H0V0z\" fill=\"none\"/>\n",
              "    <path d=\"M18.56 5.44l.94 2.06.94-2.06 2.06-.94-2.06-.94-.94-2.06-.94 2.06-2.06.94zm-11 1L8.5 8.5l.94-2.06 2.06-.94-2.06-.94L8.5 2.5l-.94 2.06-2.06.94zm10 10l.94 2.06.94-2.06 2.06-.94-2.06-.94-.94-2.06-.94 2.06-2.06.94z\"/><path d=\"M17.41 7.96l-1.37-1.37c-.4-.4-.92-.59-1.43-.59-.52 0-1.04.2-1.43.59L10.3 9.45l-7.72 7.72c-.78.78-.78 2.05 0 2.83L4 21.41c.39.39.9.59 1.41.59.51 0 1.02-.2 1.41-.59l7.78-7.78 2.81-2.81c.8-.78.8-2.07 0-2.86zM5.41 20L4 18.59l7.72-7.72 1.47 1.35L5.41 20z\"/>\n",
              "  </svg>\n",
              "      </button>\n",
              "      \n",
              "  <style>\n",
              "    .colab-df-container {\n",
              "      display:flex;\n",
              "      flex-wrap:wrap;\n",
              "      gap: 12px;\n",
              "    }\n",
              "\n",
              "    .colab-df-convert {\n",
              "      background-color: #E8F0FE;\n",
              "      border: none;\n",
              "      border-radius: 50%;\n",
              "      cursor: pointer;\n",
              "      display: none;\n",
              "      fill: #1967D2;\n",
              "      height: 32px;\n",
              "      padding: 0 0 0 0;\n",
              "      width: 32px;\n",
              "    }\n",
              "\n",
              "    .colab-df-convert:hover {\n",
              "      background-color: #E2EBFA;\n",
              "      box-shadow: 0px 1px 2px rgba(60, 64, 67, 0.3), 0px 1px 3px 1px rgba(60, 64, 67, 0.15);\n",
              "      fill: #174EA6;\n",
              "    }\n",
              "\n",
              "    [theme=dark] .colab-df-convert {\n",
              "      background-color: #3B4455;\n",
              "      fill: #D2E3FC;\n",
              "    }\n",
              "\n",
              "    [theme=dark] .colab-df-convert:hover {\n",
              "      background-color: #434B5C;\n",
              "      box-shadow: 0px 1px 3px 1px rgba(0, 0, 0, 0.15);\n",
              "      filter: drop-shadow(0px 1px 2px rgba(0, 0, 0, 0.3));\n",
              "      fill: #FFFFFF;\n",
              "    }\n",
              "  </style>\n",
              "\n",
              "      <script>\n",
              "        const buttonEl =\n",
              "          document.querySelector('#df-b74714cd-d4ee-40d5-bf1d-c2e56edb46e4 button.colab-df-convert');\n",
              "        buttonEl.style.display =\n",
              "          google.colab.kernel.accessAllowed ? 'block' : 'none';\n",
              "\n",
              "        async function convertToInteractive(key) {\n",
              "          const element = document.querySelector('#df-b74714cd-d4ee-40d5-bf1d-c2e56edb46e4');\n",
              "          const dataTable =\n",
              "            await google.colab.kernel.invokeFunction('convertToInteractive',\n",
              "                                                     [key], {});\n",
              "          if (!dataTable) return;\n",
              "\n",
              "          const docLinkHtml = 'Like what you see? Visit the ' +\n",
              "            '<a target=\"_blank\" href=https://colab.research.google.com/notebooks/data_table.ipynb>data table notebook</a>'\n",
              "            + ' to learn more about interactive tables.';\n",
              "          element.innerHTML = '';\n",
              "          dataTable['output_type'] = 'display_data';\n",
              "          await google.colab.output.renderOutput(dataTable, element);\n",
              "          const docLink = document.createElement('div');\n",
              "          docLink.innerHTML = docLinkHtml;\n",
              "          element.appendChild(docLink);\n",
              "        }\n",
              "      </script>\n",
              "    </div>\n",
              "  </div>\n",
              "  "
            ]
          },
          "metadata": {},
          "execution_count": 15
        }
      ],
      "source": [
        "# Create a list to store the text files\n",
        "texts=[]\n",
        "\n",
        "# Get all the text files in the text directory\n",
        "for file in os.listdir(\"text/\" + domain + \"/\"):\n",
        "\n",
        "    # Open the file and read the text\n",
        "    with open(\"text/\" + domain + \"/\" + file, \"r\", encoding=\"UTF-8\") as f:\n",
        "        text = f.read()\n",
        "\n",
        "        # Omit the first 11 lines and the last 4 lines, then replace -, _, and #update with spaces.\n",
        "        texts.append((file[11:-4].replace('-',' ').replace('_', ' ').replace('#update',''), text))\n",
        "\n",
        "# Create a dataframe from the list of texts\n",
        "df = pd.DataFrame(texts, columns = ['fname', 'text'])\n",
        "\n",
        "# Set the text column to be the raw text with the newlines removed\n",
        "df['text'] = df.fname + \". \" + remove_newlines(df.text)\n",
        "df.to_csv('processed/scraped.csv')\n",
        "df.head()"
      ]
    },
    {
      "cell_type": "code",
      "execution_count": null,
      "metadata": {
        "pycharm": {
          "name": "#%%\n"
        },
        "colab": {
          "base_uri": "https://localhost:8080/",
          "height": 447
        },
        "id": "pqiqIyUEoL9S",
        "outputId": "d55e5135-9221-43a4-aa46-589c8d5420c2"
      },
      "outputs": [
        {
          "output_type": "execute_result",
          "data": {
            "text/plain": [
              "<Axes: >"
            ]
          },
          "metadata": {},
          "execution_count": 20
        },
        {
          "output_type": "display_data",
          "data": {
            "text/plain": [
              "<Figure size 640x480 with 1 Axes>"
            ],
            "image/png": "[encoded data removed]"
          },
          "metadata": {}
        }
      ],
      "source": [
        "# Load the cl100k_base tokenizer which is designed to work with the ada-002 model\n",
        "tokenizer = tiktoken.get_encoding(\"cl100k_base\")\n",
        "\n",
        "df = pd.read_csv('processed/scraped.csv', index_col=0)\n",
        "df.columns = ['title', 'text']\n",
        "\n",
        "# Tokenize the text and save the number of tokens to a new column\n",
        "df['n_tokens'] = df.text.apply(lambda x: len(tokenizer.encode(x)))\n",
        "\n",
        "# Visualize the distribution of the number of tokens per row using a histogram\n",
        "df.n_tokens.hist()"
      ]
    },
    {
      "cell_type": "code",
      "execution_count": null,
      "metadata": {
        "pycharm": {
          "name": "#%%\n"
        },
        "id": "a6Shf3nZoL9S"
      },
      "outputs": [],
      "source": [
        "#Set max tokens\n",
        "max_tokens = 500\n",
        "\n",
        "# Function to split the text into chunks of a maximum number of tokens\n",
        "def split_into_many(text, max_tokens = max_tokens):\n",
        "\n",
        "    # Split the text into sentences\n",
        "    sentences = text.split('. ')\n",
        "\n",
        "    # Get the number of tokens for each sentence\n",
        "    n_tokens = [len(tokenizer.encode(\" \" + sentence)) for sentence in sentences]\n",
        "\n",
        "    chunks = []\n",
        "    tokens_so_far = 0\n",
        "    chunk = []\n",
        "\n",
        "    # Loop through the sentences and tokens joined together in a tuple\n",
        "    for sentence, token in zip(sentences, n_tokens):\n",
        "\n",
        "        # If the number of tokens so far plus the number of tokens in the current sentence is greater\n",
        "        # than the max number of tokens, then add the chunk to the list of chunks and reset\n",
        "        # the chunk and tokens so far\n",
        "        if tokens_so_far + token > max_tokens:\n",
        "            chunks.append(\". \".join(chunk) + \".\")\n",
        "            chunk = []\n",
        "            tokens_so_far = 0\n",
        "\n",
        "        # If the number of tokens in the current sentence is greater than the max number of\n",
        "        # tokens, go to the next sentence\n",
        "        if token > max_tokens:\n",
        "            continue\n",
        "\n",
        "        # Otherwise, add the sentence to the chunk and add the number of tokens to the total\n",
        "        chunk.append(sentence)\n",
        "        tokens_so_far += token + 1\n",
        "\n",
        "    return chunks\n",
        "\n",
        "\n",
        "shortened = []\n",
        "\n",
        "# Loop through the dataframe\n",
        "for row in df.iterrows():\n",
        "\n",
        "    # If the text is None, go to the next row\n",
        "    if row[1]['text'] is None:\n",
        "        continue\n",
        "\n",
        "    # If the number of tokens is greater than the max number of tokens, split the text into chunks\n",
        "    if row[1]['n_tokens'] > max_tokens:\n",
        "        shortened += split_into_many(row[1]['text'])\n",
        "\n",
        "    # Otherwise, add the text to the list of shortened texts\n",
        "    else:\n",
        "        shortened.append( row[1]['text'] )"
      ]
    },
    {
      "cell_type": "code",
      "execution_count": null,
      "metadata": {
        "pycharm": {
          "name": "#%%\n"
        },
        "colab": {
          "base_uri": "https://localhost:8080/",
          "height": 447
        },
        "id": "Xa6Bi8KSoL9T",
        "outputId": "9f062d53-9e50-49c1-965a-82bd78a03ddf"
      },
      "outputs": [
        {
          "output_type": "execute_result",
          "data": {
            "text/plain": [
              "<Axes: >"
            ]
          },
          "metadata": {},
          "execution_count": 28
        },
        {
          "output_type": "display_data",
          "data": {
            "text/plain": [
              "<Figure size 640x480 with 1 Axes>"
            ],
            "image/png": "[encoded data removed]"
          },
          "metadata": {}
        }
      ],
      "source": [
        "#Create histogram of tokens\n",
        "df = pd.DataFrame(shortened, columns = ['text'])\n",
        "df['n_tokens'] = df.text.apply(lambda x: len(tokenizer.encode(x)))\n",
        "df.n_tokens.hist()"
      ]
    },
    {
      "cell_type": "code",
      "execution_count": null,
      "metadata": {
        "pycharm": {
          "name": "#%%\n"
        },
        "colab": {
          "base_uri": "https://localhost:8080/",
          "height": 206
        },
        "id": "MyVO32ufoL9U",
        "outputId": "28f3d432-caa5-4fd8-efa7-ea77c535d30e"
      },
      "outputs": [
        {
          "output_type": "execute_result",
          "data": {
            "text/plain": [
              "                                                text  n_tokens  \\\n",
              "0  itary tuition assistance.    Military tuition ...       484   \n",
              "1  ort safety violations.    Where to report work...       392   \n",
              "2  seguro social incapacidad discapacidad.    Ben...       151   \n",
              "3        English   Página principal   Cerrar    B...       474   \n",
              "4    Aprenda cómo funcionan el SSDI y el SSI El S...       488   \n",
              "\n",
              "                                          embeddings  \n",
              "0  [-0.005181129090487957, -0.010909026488661766,...  \n",
              "1  [0.003597257426008582, -0.024261029437184334, ...  \n",
              "2  [-0.007826055400073528, -0.01204974576830864, ...  \n",
              "3  [-0.012513290159404278, -0.002807844430208206,...  \n",
              "4  [-0.006137838587164879, 1.5198689652606845e-05...  "
            ],
            "text/html": [
              "\n",
              "  <div id=\"df-b540bc4f-1b0b-4b3c-ae09-64cb8e300aa1\">\n",
              "    <div class=\"colab-df-container\">\n",
              "      <div>\n",
              "<style scoped>\n",
              "    .dataframe tbody tr th:only-of-type {\n",
              "        vertical-align: middle;\n",
              "    }\n",
              "\n",
              "    .dataframe tbody tr th {\n",
              "        vertical-align: top;\n",
              "    }\n",
              "\n",
              "    .dataframe thead th {\n",
              "        text-align: right;\n",
              "    }\n",
              "</style>\n",
              "<table border=\"1\" class=\"dataframe\">\n",
              "  <thead>\n",
              "    <tr style=\"text-align: right;\">\n",
              "      <th></th>\n",
              "      <th>text</th>\n",
              "      <th>n_tokens</th>\n",
              "      <th>embeddings</th>\n",
              "    </tr>\n",
              "  </thead>\n",
              "  <tbody>\n",
              "    <tr>\n",
              "      <th>0</th>\n",
              "      <td>itary tuition assistance.    Military tuition ...</td>\n",
              "      <td>484</td>\n",
              "      <td>[-0.005181129090487957, -0.010909026488661766,...</td>\n",
              "    </tr>\n",
              "    <tr>\n",
              "      <th>1</th>\n",
              "      <td>ort safety violations.    Where to report work...</td>\n",
              "      <td>392</td>\n",
              "      <td>[0.003597257426008582, -0.024261029437184334, ...</td>\n",
              "    </tr>\n",
              "    <tr>\n",
              "      <th>2</th>\n",
              "      <td>seguro social incapacidad discapacidad.    Ben...</td>\n",
              "      <td>151</td>\n",
              "      <td>[-0.007826055400073528, -0.01204974576830864, ...</td>\n",
              "    </tr>\n",
              "    <tr>\n",
              "      <th>3</th>\n",
              "      <td>English   Página principal   Cerrar    B...</td>\n",
              "      <td>474</td>\n",
              "      <td>[-0.012513290159404278, -0.002807844430208206,...</td>\n",
              "    </tr>\n",
              "    <tr>\n",
              "      <th>4</th>\n",
              "      <td>Aprenda cómo funcionan el SSDI y el SSI El S...</td>\n",
              "      <td>488</td>\n",
              "      <td>[-0.006137838587164879, 1.5198689652606845e-05...</td>\n",
              "    </tr>\n",
              "  </tbody>\n",
              "</table>\n",
              "</div>\n",
              "      <button class=\"colab-df-convert\" onclick=\"convertToInteractive('df-b540bc4f-1b0b-4b3c-ae09-64cb8e300aa1')\"\n",
              "              title=\"Convert this dataframe to an interactive table.\"\n",
              "              style=\"display:none;\">\n",
              "        \n",
              "  <svg xmlns=\"http://www.w3.org/2000/svg\" height=\"24px\"viewBox=\"0 0 24 24\"\n",
              "       width=\"24px\">\n",
              "    <path d=\"M0 0h24v24H0V0z\" fill=\"none\"/>\n",
              "    <path d=\"M18.56 5.44l.94 2.06.94-2.06 2.06-.94-2.06-.94-.94-2.06-.94 2.06-2.06.94zm-11 1L8.5 8.5l.94-2.06 2.06-.94-2.06-.94L8.5 2.5l-.94 2.06-2.06.94zm10 10l.94 2.06.94-2.06 2.06-.94-2.06-.94-.94-2.06-.94 2.06-2.06.94z\"/><path d=\"M17.41 7.96l-1.37-1.37c-.4-.4-.92-.59-1.43-.59-.52 0-1.04.2-1.43.59L10.3 9.45l-7.72 7.72c-.78.78-.78 2.05 0 2.83L4 21.41c.39.39.9.59 1.41.59.51 0 1.02-.2 1.41-.59l7.78-7.78 2.81-2.81c.8-.78.8-2.07 0-2.86zM5.41 20L4 18.59l7.72-7.72 1.47 1.35L5.41 20z\"/>\n",
              "  </svg>\n",
              "      </button>\n",
              "      \n",
              "  <style>\n",
              "    .colab-df-container {\n",
              "      display:flex;\n",
              "      flex-wrap:wrap;\n",
              "      gap: 12px;\n",
              "    }\n",
              "\n",
              "    .colab-df-convert {\n",
              "      background-color: #E8F0FE;\n",
              "      border: none;\n",
              "      border-radius: 50%;\n",
              "      cursor: pointer;\n",
              "      display: none;\n",
              "      fill: #1967D2;\n",
              "      height: 32px;\n",
              "      padding: 0 0 0 0;\n",
              "      width: 32px;\n",
              "    }\n",
              "\n",
              "    .colab-df-convert:hover {\n",
              "      background-color: #E2EBFA;\n",
              "      box-shadow: 0px 1px 2px rgba(60, 64, 67, 0.3), 0px 1px 3px 1px rgba(60, 64, 67, 0.15);\n",
              "      fill: #174EA6;\n",
              "    }\n",
              "\n",
              "    [theme=dark] .colab-df-convert {\n",
              "      background-color: #3B4455;\n",
              "      fill: #D2E3FC;\n",
              "    }\n",
              "\n",
              "    [theme=dark] .colab-df-convert:hover {\n",
              "      background-color: #434B5C;\n",
              "      box-shadow: 0px 1px 3px 1px rgba(0, 0, 0, 0.15);\n",
              "      filter: drop-shadow(0px 1px 2px rgba(0, 0, 0, 0.3));\n",
              "      fill: #FFFFFF;\n",
              "    }\n",
              "  </style>\n",
              "\n",
              "      <script>\n",
              "        const buttonEl =\n",
              "          document.querySelector('#df-b540bc4f-1b0b-4b3c-ae09-64cb8e300aa1 button.colab-df-convert');\n",
              "        buttonEl.style.display =\n",
              "          google.colab.kernel.accessAllowed ? 'block' : 'none';\n",
              "\n",
              "        async function convertToInteractive(key) {\n",
              "          const element = document.querySelector('#df-b540bc4f-1b0b-4b3c-ae09-64cb8e300aa1');\n",
              "          const dataTable =\n",
              "            await google.colab.kernel.invokeFunction('convertToInteractive',\n",
              "                                                     [key], {});\n",
              "          if (!dataTable) return;\n",
              "\n",
              "          const docLinkHtml = 'Like what you see? Visit the ' +\n",
              "            '<a target=\"_blank\" href=https://colab.research.google.com/notebooks/data_table.ipynb>data table notebook</a>'\n",
              "            + ' to learn more about interactive tables.';\n",
              "          element.innerHTML = '';\n",
              "          dataTable['output_type'] = 'display_data';\n",
              "          await google.colab.output.renderOutput(dataTable, element);\n",
              "          const docLink = document.createElement('div');\n",
              "          docLink.innerHTML = docLinkHtml;\n",
              "          element.appendChild(docLink);\n",
              "        }\n",
              "      </script>\n",
              "    </div>\n",
              "  </div>\n",
              "  "
            ]
          },
          "metadata": {},
          "execution_count": 29
        }
      ],
      "source": [
        "#Create embeddings for the text in the df dataframe using Embedding API, save to a CSV file\n",
        "df['embeddings'] = df.text.apply(lambda x: openai.Embedding.create(input=x, engine='text-embedding-ada-002')['data'][0]['embedding'])\n",
        "df.to_csv('processed/embeddings.csv')\n",
        "df.head()"
      ]
    },
    {
      "cell_type": "code",
      "execution_count": null,
      "metadata": {
        "pycharm": {
          "name": "#%%\n"
        },
        "colab": {
          "base_uri": "https://localhost:8080/",
          "height": 206
        },
        "id": "Cfw98B7voL9U",
        "outputId": "995a6f88-0892-40e2-b604-8a8368a09109"
      },
      "outputs": [
        {
          "output_type": "execute_result",
          "data": {
            "text/plain": [
              "                                                text  n_tokens  \\\n",
              "0  itary tuition assistance.    Military tuition ...       484   \n",
              "1  ort safety violations.    Where to report work...       392   \n",
              "2  seguro social incapacidad discapacidad.    Ben...       151   \n",
              "3        English   Página principal   Cerrar    B...       474   \n",
              "4    Aprenda cómo funcionan el SSDI y el SSI El S...       488   \n",
              "\n",
              "                                          embeddings  \n",
              "0  [-0.005181129090487957, -0.010909026488661766,...  \n",
              "1  [0.003597257426008582, -0.024261029437184334, ...  \n",
              "2  [-0.007826055400073528, -0.01204974576830864, ...  \n",
              "3  [-0.012513290159404278, -0.002807844430208206,...  \n",
              "4  [-0.006137838587164879, 1.5198689652606845e-05...  "
            ],
            "text/html": [
              "\n",
              "  <div id=\"df-c77ad56b-de6a-48b3-837f-3671fd15432c\">\n",
              "    <div class=\"colab-df-container\">\n",
              "      <div>\n",
              "<style scoped>\n",
              "    .dataframe tbody tr th:only-of-type {\n",
              "        vertical-align: middle;\n",
              "    }\n",
              "\n",
              "    .dataframe tbody tr th {\n",
              "        vertical-align: top;\n",
              "    }\n",
              "\n",
              "    .dataframe thead th {\n",
              "        text-align: right;\n",
              "    }\n",
              "</style>\n",
              "<table border=\"1\" class=\"dataframe\">\n",
              "  <thead>\n",
              "    <tr style=\"text-align: right;\">\n",
              "      <th></th>\n",
              "      <th>text</th>\n",
              "      <th>n_tokens</th>\n",
              "      <th>embeddings</th>\n",
              "    </tr>\n",
              "  </thead>\n",
              "  <tbody>\n",
              "    <tr>\n",
              "      <th>0</th>\n",
              "      <td>itary tuition assistance.    Military tuition ...</td>\n",
              "      <td>484</td>\n",
              "      <td>[-0.005181129090487957, -0.010909026488661766,...</td>\n",
              "    </tr>\n",
              "    <tr>\n",
              "      <th>1</th>\n",
              "      <td>ort safety violations.    Where to report work...</td>\n",
              "      <td>392</td>\n",
              "      <td>[0.003597257426008582, -0.024261029437184334, ...</td>\n",
              "    </tr>\n",
              "    <tr>\n",
              "      <th>2</th>\n",
              "      <td>seguro social incapacidad discapacidad.    Ben...</td>\n",
              "      <td>151</td>\n",
              "      <td>[-0.007826055400073528, -0.01204974576830864, ...</td>\n",
              "    </tr>\n",
              "    <tr>\n",
              "      <th>3</th>\n",
              "      <td>English   Página principal   Cerrar    B...</td>\n",
              "      <td>474</td>\n",
              "      <td>[-0.012513290159404278, -0.002807844430208206,...</td>\n",
              "    </tr>\n",
              "    <tr>\n",
              "      <th>4</th>\n",
              "      <td>Aprenda cómo funcionan el SSDI y el SSI El S...</td>\n",
              "      <td>488</td>\n",
              "      <td>[-0.006137838587164879, 1.5198689652606845e-05...</td>\n",
              "    </tr>\n",
              "  </tbody>\n",
              "</table>\n",
              "</div>\n",
              "      <button class=\"colab-df-convert\" onclick=\"convertToInteractive('df-c77ad56b-de6a-48b3-837f-3671fd15432c')\"\n",
              "              title=\"Convert this dataframe to an interactive table.\"\n",
              "              style=\"display:none;\">\n",
              "        \n",
              "  <svg xmlns=\"http://www.w3.org/2000/svg\" height=\"24px\"viewBox=\"0 0 24 24\"\n",
              "       width=\"24px\">\n",
              "    <path d=\"M0 0h24v24H0V0z\" fill=\"none\"/>\n",
              "    <path d=\"M18.56 5.44l.94 2.06.94-2.06 2.06-.94-2.06-.94-.94-2.06-.94 2.06-2.06.94zm-11 1L8.5 8.5l.94-2.06 2.06-.94-2.06-.94L8.5 2.5l-.94 2.06-2.06.94zm10 10l.94 2.06.94-2.06 2.06-.94-2.06-.94-.94-2.06-.94 2.06-2.06.94z\"/><path d=\"M17.41 7.96l-1.37-1.37c-.4-.4-.92-.59-1.43-.59-.52 0-1.04.2-1.43.59L10.3 9.45l-7.72 7.72c-.78.78-.78 2.05 0 2.83L4 21.41c.39.39.9.59 1.41.59.51 0 1.02-.2 1.41-.59l7.78-7.78 2.81-2.81c.8-.78.8-2.07 0-2.86zM5.41 20L4 18.59l7.72-7.72 1.47 1.35L5.41 20z\"/>\n",
              "  </svg>\n",
              "      </button>\n",
              "      \n",
              "  <style>\n",
              "    .colab-df-container {\n",
              "      display:flex;\n",
              "      flex-wrap:wrap;\n",
              "      gap: 12px;\n",
              "    }\n",
              "\n",
              "    .colab-df-convert {\n",
              "      background-color: #E8F0FE;\n",
              "      border: none;\n",
              "      border-radius: 50%;\n",
              "      cursor: pointer;\n",
              "      display: none;\n",
              "      fill: #1967D2;\n",
              "      height: 32px;\n",
              "      padding: 0 0 0 0;\n",
              "      width: 32px;\n",
              "    }\n",
              "\n",
              "    .colab-df-convert:hover {\n",
              "      background-color: #E2EBFA;\n",
              "      box-shadow: 0px 1px 2px rgba(60, 64, 67, 0.3), 0px 1px 3px 1px rgba(60, 64, 67, 0.15);\n",
              "      fill: #174EA6;\n",
              "    }\n",
              "\n",
              "    [theme=dark] .colab-df-convert {\n",
              "      background-color: #3B4455;\n",
              "      fill: #D2E3FC;\n",
              "    }\n",
              "\n",
              "    [theme=dark] .colab-df-convert:hover {\n",
              "      background-color: #434B5C;\n",
              "      box-shadow: 0px 1px 3px 1px rgba(0, 0, 0, 0.15);\n",
              "      filter: drop-shadow(0px 1px 2px rgba(0, 0, 0, 0.3));\n",
              "      fill: #FFFFFF;\n",
              "    }\n",
              "  </style>\n",
              "\n",
              "      <script>\n",
              "        const buttonEl =\n",
              "          document.querySelector('#df-c77ad56b-de6a-48b3-837f-3671fd15432c button.colab-df-convert');\n",
              "        buttonEl.style.display =\n",
              "          google.colab.kernel.accessAllowed ? 'block' : 'none';\n",
              "\n",
              "        async function convertToInteractive(key) {\n",
              "          const element = document.querySelector('#df-c77ad56b-de6a-48b3-837f-3671fd15432c');\n",
              "          const dataTable =\n",
              "            await google.colab.kernel.invokeFunction('convertToInteractive',\n",
              "                                                     [key], {});\n",
              "          if (!dataTable) return;\n",
              "\n",
              "          const docLinkHtml = 'Like what you see? Visit the ' +\n",
              "            '<a target=\"_blank\" href=https://colab.research.google.com/notebooks/data_table.ipynb>data table notebook</a>'\n",
              "            + ' to learn more about interactive tables.';\n",
              "          element.innerHTML = '';\n",
              "          dataTable['output_type'] = 'display_data';\n",
              "          await google.colab.output.renderOutput(dataTable, element);\n",
              "          const docLink = document.createElement('div');\n",
              "          docLink.innerHTML = docLinkHtml;\n",
              "          element.appendChild(docLink);\n",
              "        }\n",
              "      </script>\n",
              "    </div>\n",
              "  </div>\n",
              "  "
            ]
          },
          "metadata": {},
          "execution_count": 30
        }
      ],
      "source": [
        "#Read in the CSV file 'processed/embeddings.csv', then convert embeddings from string to NumPy array\n",
        "df=pd.read_csv('processed/embeddings.csv', index_col=0)\n",
        "df['embeddings'] = df['embeddings'].apply(eval).apply(np.array)\n",
        "\n",
        "df.head()"
      ]
    },
    {
      "cell_type": "code",
      "execution_count": null,
      "metadata": {
        "pycharm": {
          "name": "#%%\n"
        },
        "id": "VKZFXNqPoL9V"
      },
      "outputs": [],
      "source": [
        "#Define create context\n",
        "def create_context(\n",
        "        question, df, max_len=1800, size=\"ada\"\n",
        "):\n",
        "    \"\"\"\n",
        "    Create a context for a question by finding the most similar context from the dataframe\n",
        "    \"\"\"\n",
        "\n",
        "    # Get the embeddings for the question\n",
        "    q_embeddings = openai.Embedding.create(input=question, engine='text-embedding-ada-002')['data'][0]['embedding']\n",
        "\n",
        "    # Get the distances from the embeddings\n",
        "    df['distances'] = distances_from_embeddings(q_embeddings, df['embeddings'].values, distance_metric='cosine')\n",
        "\n",
        "\n",
        "    returns = []\n",
        "    cur_len = 0\n",
        "\n",
        "    # Sort by distance and add the text to the context until the context is too long\n",
        "    for i, row in df.sort_values('distances', ascending=True).iterrows():\n",
        "\n",
        "        # Add the length of the text to the current length\n",
        "        cur_len += row['n_tokens'] + 4\n",
        "\n",
        "        # If the context is too long, break\n",
        "        if cur_len > max_len:\n",
        "            break\n",
        "\n",
        "        # Else add it to the text that is being returned\n",
        "        returns.append(row[\"text\"])\n",
        "\n",
        "    # Return the context\n",
        "    return \"\\n\\n###\\n\\n\".join(returns)"
      ]
    },
    {
      "cell_type": "code",
      "execution_count": null,
      "metadata": {
        "pycharm": {
          "name": "#%%\n"
        },
        "id": "oH-9FgJaoL9V"
      },
      "outputs": [],
      "source": [
        "#Create a Question Prompt\n",
        "def answer_question(\n",
        "        df,\n",
        "        model=\"text-davinci-003\",\n",
        "        question=\"Is there a Coronavirus tax relief available for 2022 taxes?\",\n",
        "        max_len=1800,\n",
        "        size=\"ada\",\n",
        "        debug=False,\n",
        "        max_tokens=150,\n",
        "        stop_sequence=None\n",
        "):\n",
        "    \"\"\"\n",
        "    Answer a question based on the most similar context from the dataframe texts\n",
        "    \"\"\"\n",
        "    context = create_context(\n",
        "        question,\n",
        "        df,\n",
        "        max_len=max_len,\n",
        "        size=size,\n",
        "    )\n",
        "    # If debug, print the raw model response\n",
        "    if debug:\n",
        "        print(\"Context:\\n\" + context)\n",
        "        print(\"\\n\\n\")\n",
        "\n",
        "    try:\n",
        "        # Create a completions using the question and context\n",
        "        response = openai.Completion.create(\n",
        "            prompt=f\"Answer the question based on the context below, and if the question can't be answered based on the context, say \\\"I don't know\\\"\\n\\nContext: {context}\\n\\n---\\n\\nQuestion: {question}\\nAnswer:\",\n",
        "            temperature=0,\n",
        "            max_tokens=max_tokens,\n",
        "            top_p=1,\n",
        "            frequency_penalty=0,\n",
        "            presence_penalty=0,\n",
        "            stop=stop_sequence,\n",
        "            model=model,\n",
        "        )\n",
        "        return response[\"choices\"][0][\"text\"].strip()\n",
        "    except Exception as e:\n",
        "        print(e)\n",
        "        return \"\""
      ]
    },
    {
      "cell_type": "code",
      "execution_count": null,
      "outputs": [
        {
          "output_type": "stream",
          "name": "stdout",
          "text": [
            "Ask a Question about usa.govWhat are the tax updates from the IRS?\n",
            "What are the tax updates from the IRS?\n"
          ]
        },
        {
          "output_type": "execute_result",
          "data": {
            "text/plain": [
              "'The IRS has released a new tax filing form for people 65 and older. It is an easier-to-read version of the 1040 form. It has bigger print, less shading, and features like a standard deduction chart. The form is optional and uses the same schedules, instructions, and attachments as the regular 1040.'"
            ],
            "application/vnd.google.colaboratory.intrinsic+json": {
              "type": "string"
            }
          },
          "metadata": {},
          "execution_count": 23
        }
      ],
      "source": [
        "user_question = str(input(\"Ask a Question about {website}\".format(website = domain)))\n",
        "print(user_question)\n",
        "answer_question(df,question = user_question)"
      ],
      "metadata": {
        "pycharm": {
          "name": "#%%\n"
        },
        "colab": {
          "base_uri": "https://localhost:8080/",
          "height": 88
        },
        "id": "4vD7UIRyoL9W",
        "outputId": "4d3f71ce-bdab-4ad1-dc7a-ad4159f3318e"
      }
    },
    {
      "cell_type": "code",
      "execution_count": null,
      "outputs": [
        {
          "output_type": "stream",
          "name": "stdout",
          "text": [
            "Ask a Question about usa.govWhen is the deadline to file taxes?\n",
            "When is the deadline to file taxes?\n"
          ]
        },
        {
          "output_type": "execute_result",
          "data": {
            "text/plain": [
              "'April 18, 2023'"
            ],
            "application/vnd.google.colaboratory.intrinsic+json": {
              "type": "string"
            }
          },
          "metadata": {},
          "execution_count": 24
        }
      ],
      "source": [
        "user_question2 = str(input(\"Ask a Question about {website}\".format(website = domain)))\n",
        "print(user_question2)\n",
        "answer_question(df,question = user_question2)"
      ],
      "metadata": {
        "pycharm": {
          "name": "#%%\n"
        },
        "colab": {
          "base_uri": "https://localhost:8080/",
          "height": 70
        },
        "id": "aYjxIiNMoL9X",
        "outputId": "7970f782-725a-43d6-b6fa-a321ac141424"
      }
    },
    {
      "cell_type": "code",
      "execution_count": null,
      "outputs": [
        {
          "output_type": "stream",
          "name": "stdout",
          "text": [
            "Ask a Question about usa.govWhat are the qualifications for the Corona Tax Relief?\n",
            "What are the qualifications for the Corona Tax Relief?\n"
          ]
        },
        {
          "output_type": "execute_result",
          "data": {
            "text/plain": [
              "'The IRS offers tax relief to those affected by federally declared disasters. If you are a disaster survivor, you may qualify for a tax-filing extension or expedited tax refund.'"
            ],
            "application/vnd.google.colaboratory.intrinsic+json": {
              "type": "string"
            }
          },
          "metadata": {},
          "execution_count": 27
        }
      ],
      "source": [
        "user_question3 = str(input(\"Ask a Question about {website}\".format(website = domain)))\n",
        "print(user_question3)\n",
        "answer_question(df,question = user_question3)"
      ],
      "metadata": {
        "pycharm": {
          "name": "#%%\n"
        },
        "colab": {
          "base_uri": "https://localhost:8080/",
          "height": 70
        },
        "id": "77PFO6uBoL9X",
        "outputId": "5894d555-c547-441e-edfa-ae0b93016dbc"
      }
    },
    {
      "cell_type": "code",
      "execution_count": null,
      "outputs": [
        {
          "output_type": "stream",
          "name": "stdout",
          "text": [
            "Ask a Question about usa.gov how do you resolve a tax dispute with the IRS?\n",
            " how do you resolve a tax dispute with the IRS?\n"
          ]
        },
        {
          "output_type": "execute_result",
          "data": {
            "text/plain": [
              "\"I don't know.\""
            ],
            "application/vnd.google.colaboratory.intrinsic+json": {
              "type": "string"
            }
          },
          "metadata": {},
          "execution_count": 36
        }
      ],
      "source": [
        "user_question4 = str(input(\"Ask a Question about {website}\".format(website = domain)))\n",
        "print(user_question4)\n",
        "answer_question(df,question = user_question4)"
      ],
      "metadata": {
        "pycharm": {
          "name": "#%%\n"
        },
        "colab": {
          "base_uri": "https://localhost:8080/",
          "height": 70
        },
        "id": "q4kKr9KQoL9X",
        "outputId": "4707435a-3edc-4f47-acef-3a837eb170d6"
      }
    },
    {
      "cell_type": "code",
      "execution_count": null,
      "outputs": [
        {
          "output_type": "stream",
          "name": "stdout",
          "text": [
            "Ask a Question about usa.govHow do I file a tax return if I am a non-resident?\n",
            "How do I file a tax return if I am a non-resident?\n"
          ]
        },
        {
          "output_type": "execute_result",
          "data": {
            "text/plain": [
              "\"Filing a federal tax return if you are a nonresident alien | USAGov             Skip to main content    An official website of the United States government Here's how you know Here's how you know   The .gov means itâ\\x80\\x99s official.    Federal government websites often end in .gov or .mil. Before sharing sensitive information, make sure youâ\\x80\\x99re on a federal government site.     The site is secure.    The https:// ensures that you are connecting to the official website and that any information you provide is encrypted and transmitted securely.       EspaÃ±ol   Home   Close    Search   1-844-USAGOV1  Taxes Filing federal taxes  Do you\""
            ],
            "application/vnd.google.colaboratory.intrinsic+json": {
              "type": "string"
            }
          },
          "metadata": {},
          "execution_count": 33
        }
      ],
      "source": [
        "user_question5 = str(input(\"Ask a Question about {website}\".format(website = domain)))\n",
        "print(user_question5)\n",
        "answer_question(df,question = user_question5)"
      ],
      "metadata": {
        "pycharm": {
          "name": "#%%\n"
        },
        "colab": {
          "base_uri": "https://localhost:8080/",
          "height": 122
        },
        "id": "bPcKPVUGoL9Y",
        "outputId": "74ad2ce8-d6de-4600-c554-800a6984c27e"
      }
    },
    {
      "cell_type": "code",
      "execution_count": null,
      "outputs": [
        {
          "output_type": "stream",
          "name": "stdout",
          "text": [
            "Ask a Question about usa.govPlease answer in English, how do you resolve a tax dispute with the IRS?\n",
            "Please answer in English, how do you resolve a tax dispute with the IRS?\n"
          ]
        },
        {
          "output_type": "execute_result",
          "data": {
            "text/plain": [
              "'If you have a tax dispute with the IRS, there are ways you can resolve it. You can get help with the Taxpayer Advocate Service (TAS), which is a free service that helps you resolve tax problems. You can also contact a Low-Income Taxpayer Clinic (LITC) for free or low-cost services. You can also appeal to the IRS Office of Appeals or contact the IRS Centralized Lien Operation.'"
            ],
            "application/vnd.google.colaboratory.intrinsic+json": {
              "type": "string"
            }
          },
          "metadata": {},
          "execution_count": 35
        }
      ],
      "source": [
        "user_question6 = str(input(\"Ask a Question about {website}\".format(website = domain)))\n",
        "print(user_question6)\n",
        "answer_question(df,question = user_question6)"
      ],
      "metadata": {
        "pycharm": {
          "name": "#%%\n"
        },
        "colab": {
          "base_uri": "https://localhost:8080/",
          "height": 105
        },
        "id": "HAwY-tZRoL9Z",
        "outputId": "65a13aff-b99a-44db-ae21-1d827392bd9d"
      }
    },
    {
      "cell_type": "markdown",
      "source": [
        "# Experimenting"
      ],
      "metadata": {
        "collapsed": false,
        "pycharm": {
          "name": "#%% md\n"
        },
        "id": "cwnMWLkVoL9Z"
      }
    },
    {
      "cell_type": "code",
      "source": [
        "#English only motified\n",
        "\n",
        "def answer_question_modified(\n",
        "        df,\n",
        "        model=\"text-davinci-003\",\n",
        "        # Set the language-specific model\n",
        "        model_engine=\"text-davinci-002\", # English by default\n",
        "        language_code=\"en\", # English language code\n",
        "        question=\"Am I allowed to publish model outputs to Twitter, without a human review?\",\n",
        "        max_len=1800,\n",
        "        size=\"ada\",\n",
        "        debug=False,\n",
        "        max_tokens=150,\n",
        "        stop_sequence=None,\n",
        "        user_id=None\n",
        "):\n",
        "    \"\"\"\n",
        "    Answer a question based on the most similar context from the dataframe texts\n",
        "    \"\"\"\n",
        "    context = create_context(\n",
        "        question,\n",
        "        df,\n",
        "        max_len=max_len,\n",
        "        size=size,\n",
        "    )\n",
        "    # If debug, print the raw model response\n",
        "    if debug:\n",
        "        print(\"Context:\\n\" + context)\n",
        "        print(\"\\n\\n\")\n",
        "\n",
        "    try:\n",
        "        # Create a completions using the question and context and use google if it cannot find the answer\n",
        "        response1 = openai.Completion.create(\n",
        "            prompt=f\"Answer the question based on the context below and say you are using the context below, and if the question can't be answered based on the context use the google \\\"\\n\\nContext: {context}\\n\\n---\\n\\nQuestion: {question}\\nAnswer:\",\n",
        "            temperature=0,\n",
        "            max_tokens=max_tokens,\n",
        "            top_p=1,\n",
        "            frequency_penalty=0,\n",
        "            presence_penalty=0,\n",
        "            stop=stop_sequence,\n",
        "            model=model,\n",
        "        )\n",
        "\n",
        "        response2 = openai.Completion.create(\n",
        "            engine=model_engine,\n",
        "            prompt=question,\n",
        "            max_tokens=max_tokens,\n",
        "            n=1,\n",
        "            stop=None,\n",
        "            temperature=0.7,\n",
        "            frequency_penalty=0,\n",
        "            presence_penalty=0,\n",
        "            user=user_id,\n",
        "            model=model_engine+\"/\"+language_code # Set the language-specific model\n",
        "        ) \n",
        "\n",
        "        response = response1.choices[0].text.strip() + \"\\n\" + response2.choices[0].text.strip()\n",
        "        return response\n",
        "    except Exception as e:\n",
        "        print(e)\n",
        "        return \"\"\n"
      ],
      "metadata": {
        "id": "zPU-IovayySF"
      },
      "execution_count": null,
      "outputs": []
    },
    {
      "cell_type": "code",
      "execution_count": null,
      "outputs": [
        {
          "output_type": "error",
          "ename": "NameError",
          "evalue": "ignored",
          "traceback": [
            "\u001b[0;31m---------------------------------------------------------------------------\u001b[0m",
            "\u001b[0;31mNameError\u001b[0m                                 Traceback (most recent call last)",
            "\u001b[0;32m<ipython-input-9-cde1827c20b6>\u001b[0m in \u001b[0;36m<cell line: 1>\u001b[0;34m()\u001b[0m\n\u001b[0;32m----> 1\u001b[0;31m \u001b[0muser_question7\u001b[0m \u001b[0;34m=\u001b[0m \u001b[0mstr\u001b[0m\u001b[0;34m(\u001b[0m\u001b[0minput\u001b[0m\u001b[0;34m(\u001b[0m\u001b[0;34m\"Ask a Question about {website}\"\u001b[0m\u001b[0;34m.\u001b[0m\u001b[0mformat\u001b[0m\u001b[0;34m(\u001b[0m\u001b[0mwebsite\u001b[0m \u001b[0;34m=\u001b[0m \u001b[0mdomain\u001b[0m\u001b[0;34m)\u001b[0m\u001b[0;34m)\u001b[0m\u001b[0;34m)\u001b[0m\u001b[0;34m\u001b[0m\u001b[0;34m\u001b[0m\u001b[0m\n\u001b[0m\u001b[1;32m      2\u001b[0m \u001b[0mprint\u001b[0m\u001b[0;34m(\u001b[0m\u001b[0muser_question7\u001b[0m\u001b[0;34m)\u001b[0m\u001b[0;34m\u001b[0m\u001b[0;34m\u001b[0m\u001b[0m\n\u001b[1;32m      3\u001b[0m \u001b[0manswer_question_modifed\u001b[0m\u001b[0;34m(\u001b[0m\u001b[0mdf\u001b[0m\u001b[0;34m,\u001b[0m\u001b[0mquestion\u001b[0m \u001b[0;34m=\u001b[0m \u001b[0muser_question7\u001b[0m\u001b[0;34m)\u001b[0m\u001b[0;34m\u001b[0m\u001b[0;34m\u001b[0m\u001b[0m\n",
            "\u001b[0;31mNameError\u001b[0m: name 'domain' is not defined"
          ]
        }
      ],
      "source": [
        "user_question7 = str(input(\"Ask a Question about {website}\".format(website = domain)))\n",
        "print(user_question7)\n",
        "answer_question_modifed(df,question = user_question7)"
      ],
      "metadata": {
        "pycharm": {
          "name": "#%%\n"
        },
        "colab": {
          "base_uri": "https://localhost:8080/",
          "height": 200
        },
        "id": "OfMWrAY_oL9a",
        "outputId": "48670ba8-bfc2-454a-b7f0-eb00a7dbbfe1"
      }
    }
  ],
  "metadata": {
    "kernelspec": {
      "display_name": "Python 3 (ipykernel)",
      "language": "python",
      "name": "python3"
    },
    "language_info": {
      "codemirror_mode": {
        "name": "ipython",
        "version": 3
      },
      "file_extension": ".py",
      "mimetype": "text/x-python",
      "name": "python",
      "nbconvert_exporter": "python",
      "pygments_lexer": "ipython3",
      "version": "3.9.6"
    },
    "colab": {
      "provenance": []
    }
  },
  "nbformat": 4,
  "nbformat_minor": 0
}